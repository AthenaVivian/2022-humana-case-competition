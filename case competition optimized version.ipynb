{
 "cells": [
  {
   "cell_type": "code",
   "execution_count": 180,
   "id": "6bdcd7b6",
   "metadata": {},
   "outputs": [],
   "source": [
    "import pandas as pd\n",
    "import numpy as np\n",
    "from math import sqrt\n",
    "from matplotlib import pyplot\n",
    "import pandas as pd\n",
    "from numpy import concatenate\n",
    "from sklearn.preprocessing import MinMaxScaler\n",
    "from sklearn.metrics import mean_absolute_error, mean_squared_error, r2_score\n",
    "from keras.models import Sequential\n",
    "from keras.layers.core import Dense, Dropout, Activation\n",
    "from tensorflow.keras.optimizers import Adam \n",
    "from keras import regularizers"
   ]
  },
  {
   "cell_type": "code",
   "execution_count": 181,
   "id": "5c2c6066",
   "metadata": {},
   "outputs": [
    {
     "name": "stderr",
     "output_type": "stream",
     "text": [
      "C:\\Users\\vivia\\AppData\\Local\\Temp\\ipykernel_2584\\1287220459.py:1: DtypeWarning: Columns (760) have mixed types. Specify dtype option on import or set low_memory=False.\n",
      "  data = pd.read_csv('D:\\\\humana case competition\\\\raw data\\\\2022_Competition_Training.csv')\n"
     ]
    }
   ],
   "source": [
    "data = pd.read_csv('D:\\\\humana case competition\\\\raw data\\\\2022_Competition_Training.csv')"
   ]
  },
  {
   "cell_type": "code",
   "execution_count": 182,
   "id": "c42e1a71",
   "metadata": {},
   "outputs": [],
   "source": [
    "dictionary = pd.read_excel('D:\\humana case competition\\Humana_Mays_2022_DataDictionary.xlsx', sheet_name = 'Data Dictionary')"
   ]
  },
  {
   "cell_type": "markdown",
   "id": "626f294a",
   "metadata": {},
   "source": [
    "# 1.Data Cleaning"
   ]
  },
  {
   "cell_type": "markdown",
   "id": "37414caa",
   "metadata": {},
   "source": [
    "### 1.1 Type conversion - change all numeric columns to numeric based on dictionary"
   ]
  },
  {
   "cell_type": "code",
   "execution_count": 183,
   "id": "730ae209",
   "metadata": {},
   "outputs": [],
   "source": [
    "data_type = dictionary['Data Type']\n",
    "feature_name = dictionary['Feature name']\n",
    "numeric_name = dictionary[dictionary['Data Type']!= 'string']['Feature name']\n",
    "len(numeric_name.tolist())\n",
    "numeric_name = [item.strip() for item in numeric_name]"
   ]
  },
  {
   "cell_type": "code",
   "execution_count": 184,
   "id": "f6f7cdef",
   "metadata": {},
   "outputs": [],
   "source": [
    "column_names = list(data.columns.values)"
   ]
  },
  {
   "cell_type": "code",
   "execution_count": 185,
   "id": "6ed37a30",
   "metadata": {},
   "outputs": [],
   "source": [
    "for col in column_names:\n",
    "    if col in numeric_name:\n",
    "        data[col] = pd.to_numeric(data[col])\n",
    "# for col in numeric_name:\n",
    "#     print(data[col].dtype)   "
   ]
  },
  {
   "cell_type": "code",
   "execution_count": 186,
   "id": "43c70a49",
   "metadata": {},
   "outputs": [],
   "source": [
    "data['cms_race_cd']=data['cms_race_cd'].astype(str)"
   ]
  },
  {
   "cell_type": "markdown",
   "id": "699bf4a6",
   "metadata": {},
   "source": [
    "### 1.2 Drop columns when all values are zero -> 766 columns left "
   ]
  },
  {
   "cell_type": "code",
   "execution_count": 187,
   "id": "ed4744ae",
   "metadata": {},
   "outputs": [],
   "source": [
    "total_row=data.shape[0]\n",
    "def check_zero(df,column_name):\n",
    "    count_zero = (df[column_name] == 0.0).sum()\n",
    "    percentage = count_zero/total_row\n",
    "    return percentage \n",
    "for col in data.columns:\n",
    "        if check_zero(data, col) == 1:\n",
    "            data = data.drop(col, axis=1)    "
   ]
  },
  {
   "cell_type": "code",
   "execution_count": 188,
   "id": "9ce38769",
   "metadata": {},
   "outputs": [
    {
     "data": {
      "text/plain": [
       "(48300, 766)"
      ]
     },
     "execution_count": 188,
     "metadata": {},
     "output_type": "execute_result"
    }
   ],
   "source": [
    "data.shape"
   ]
  },
  {
   "cell_type": "markdown",
   "id": "1bf2fdd4",
   "metadata": {},
   "source": [
    "### 1.3 Drop columns when std = 0 (all values are same)  -> 670 columns left "
   ]
  },
  {
   "cell_type": "code",
   "execution_count": 189,
   "id": "2c2490f1",
   "metadata": {},
   "outputs": [
    {
     "data": {
      "text/plain": [
       "670"
      ]
     },
     "execution_count": 189,
     "metadata": {},
     "output_type": "execute_result"
    }
   ],
   "source": [
    "#1.3 Drop columns when std = 0 (all values are same) \n",
    "i = 0\n",
    "drop_list = []\n",
    "for col in list(data.columns.values):\n",
    "    if data[col].dtype != 'object':\n",
    "        if data[col].std()==0.0:\n",
    "            drop_list.append(col)\n",
    "            i = i + 1\n",
    "\n",
    "data = data.drop(drop_list, axis = 1)\n",
    "len(data.columns)"
   ]
  },
  {
   "cell_type": "markdown",
   "id": "43090674",
   "metadata": {},
   "source": [
    "### 1.4 Create dummy columns for strings columns"
   ]
  },
  {
   "cell_type": "code",
   "execution_count": 190,
   "id": "f51d1540",
   "metadata": {},
   "outputs": [],
   "source": [
    "string_name = dictionary[dictionary['Data Type']== 'string']['Feature name'].tolist()"
   ]
  },
  {
   "cell_type": "code",
   "execution_count": 191,
   "id": "6b490e20",
   "metadata": {},
   "outputs": [
    {
     "name": "stdout",
     "output_type": "stream",
     "text": [
      "object\n",
      "object\n",
      "object\n",
      "float64\n",
      "object\n",
      "object\n",
      "object\n",
      "object\n"
     ]
    }
   ],
   "source": [
    "for i in string_name:\n",
    "    print(data[i].dtype)"
   ]
  },
  {
   "cell_type": "code",
   "execution_count": 192,
   "id": "1ce1b3c2",
   "metadata": {},
   "outputs": [],
   "source": [
    "data_with_dummy = pd.get_dummies(data, columns=string_name)"
   ]
  },
  {
   "cell_type": "code",
   "execution_count": 193,
   "id": "49d03589",
   "metadata": {},
   "outputs": [
    {
     "data": {
      "text/plain": [
       "705"
      ]
     },
     "execution_count": 193,
     "metadata": {},
     "output_type": "execute_result"
    }
   ],
   "source": [
    "len(data_with_dummy.columns.values) # after adding dummies the column added to 712"
   ]
  },
  {
   "cell_type": "markdown",
   "id": "4bbe6e7e",
   "metadata": {},
   "source": [
    "### 1.5 Drop columns with 90% missing value"
   ]
  },
  {
   "cell_type": "code",
   "execution_count": 194,
   "id": "9593b61d",
   "metadata": {},
   "outputs": [],
   "source": [
    "missing = [\"nan\", \"*\", \"\", \" \", \"null\"] # replace these values with np.nan\n",
    "data_with_dummy = data_with_dummy.replace(missing, np.nan)"
   ]
  },
  {
   "cell_type": "code",
   "execution_count": 195,
   "id": "09bbd186",
   "metadata": {},
   "outputs": [
    {
     "data": {
      "text/plain": [
       "693"
      ]
     },
     "execution_count": 195,
     "metadata": {},
     "output_type": "execute_result"
    }
   ],
   "source": [
    "data_with_dummy = data_with_dummy.loc[:, data_with_dummy.isnull().mean() < 0.5]\n",
    "len(data_with_dummy.columns)"
   ]
  },
  {
   "cell_type": "code",
   "execution_count": 197,
   "id": "0b8dd1f4",
   "metadata": {},
   "outputs": [],
   "source": [
    "data_with_dummy.to_csv(\"D:\\humana case competition\\clean_data.csv\") "
   ]
  },
  {
   "cell_type": "code",
   "execution_count": 164,
   "id": "48808291",
   "metadata": {},
   "outputs": [],
   "source": []
  },
  {
   "cell_type": "code",
   "execution_count": 165,
   "id": "458bed0c",
   "metadata": {},
   "outputs": [
    {
     "data": {
      "text/html": [
       "<div>\n",
       "<style scoped>\n",
       "    .dataframe tbody tr th:only-of-type {\n",
       "        vertical-align: middle;\n",
       "    }\n",
       "\n",
       "    .dataframe tbody tr th {\n",
       "        vertical-align: top;\n",
       "    }\n",
       "\n",
       "    .dataframe thead th {\n",
       "        text-align: right;\n",
       "    }\n",
       "</style>\n",
       "<table border=\"1\" class=\"dataframe\">\n",
       "  <thead>\n",
       "    <tr style=\"text-align: right;\">\n",
       "      <th></th>\n",
       "      <th>id</th>\n",
       "      <th>rx_hum_19_pmpm_cost</th>\n",
       "      <th>cmsd2_can_mal_male_genital_pmpm_ct</th>\n",
       "      <th>cmsd2_inj_surgical_pmpm_ct</th>\n",
       "      <th>cci_chf_pmpm_ct</th>\n",
       "      <th>rx_phar_cat_safeway_pmpm_ct</th>\n",
       "      <th>cmsd2_ext_car_pmpm_ct</th>\n",
       "      <th>cmsd2_dig_liver_pmpm_ct</th>\n",
       "      <th>cmsd2_mus_arthropath_pmpm_ct</th>\n",
       "      <th>rx_hum_28_pmpm_ct</th>\n",
       "      <th>...</th>\n",
       "      <th>rucc_category_8-Nonmetro</th>\n",
       "      <th>rucc_category_9-Nonmetro</th>\n",
       "      <th>cms_race_cd_*</th>\n",
       "      <th>cms_race_cd_0</th>\n",
       "      <th>cms_race_cd_1</th>\n",
       "      <th>cms_race_cd_2</th>\n",
       "      <th>cms_race_cd_3</th>\n",
       "      <th>cms_race_cd_4</th>\n",
       "      <th>cms_race_cd_5</th>\n",
       "      <th>cms_race_cd_6</th>\n",
       "    </tr>\n",
       "  </thead>\n",
       "  <tbody>\n",
       "    <tr>\n",
       "      <th>0</th>\n",
       "      <td>100039218.0</td>\n",
       "      <td>0.0</td>\n",
       "      <td>0.0</td>\n",
       "      <td>0.0</td>\n",
       "      <td>0.0</td>\n",
       "      <td>0.0</td>\n",
       "      <td>0.0</td>\n",
       "      <td>0.00</td>\n",
       "      <td>0.0</td>\n",
       "      <td>0.00</td>\n",
       "      <td>...</td>\n",
       "      <td>0</td>\n",
       "      <td>0</td>\n",
       "      <td>0</td>\n",
       "      <td>0</td>\n",
       "      <td>1</td>\n",
       "      <td>0</td>\n",
       "      <td>0</td>\n",
       "      <td>0</td>\n",
       "      <td>0</td>\n",
       "      <td>0</td>\n",
       "    </tr>\n",
       "    <tr>\n",
       "      <th>1</th>\n",
       "      <td>100042427.0</td>\n",
       "      <td>0.0</td>\n",
       "      <td>0.0</td>\n",
       "      <td>0.0</td>\n",
       "      <td>0.0</td>\n",
       "      <td>0.0</td>\n",
       "      <td>0.0</td>\n",
       "      <td>0.00</td>\n",
       "      <td>0.0</td>\n",
       "      <td>0.00</td>\n",
       "      <td>...</td>\n",
       "      <td>0</td>\n",
       "      <td>0</td>\n",
       "      <td>0</td>\n",
       "      <td>0</td>\n",
       "      <td>0</td>\n",
       "      <td>0</td>\n",
       "      <td>0</td>\n",
       "      <td>0</td>\n",
       "      <td>0</td>\n",
       "      <td>1</td>\n",
       "    </tr>\n",
       "    <tr>\n",
       "      <th>2</th>\n",
       "      <td>100055103.0</td>\n",
       "      <td>0.0</td>\n",
       "      <td>0.0</td>\n",
       "      <td>0.0</td>\n",
       "      <td>0.0</td>\n",
       "      <td>0.0</td>\n",
       "      <td>0.0</td>\n",
       "      <td>0.00</td>\n",
       "      <td>0.0</td>\n",
       "      <td>0.00</td>\n",
       "      <td>...</td>\n",
       "      <td>0</td>\n",
       "      <td>0</td>\n",
       "      <td>0</td>\n",
       "      <td>0</td>\n",
       "      <td>1</td>\n",
       "      <td>0</td>\n",
       "      <td>0</td>\n",
       "      <td>0</td>\n",
       "      <td>0</td>\n",
       "      <td>0</td>\n",
       "    </tr>\n",
       "    <tr>\n",
       "      <th>3</th>\n",
       "      <td>100074556.0</td>\n",
       "      <td>0.0</td>\n",
       "      <td>0.0</td>\n",
       "      <td>0.0</td>\n",
       "      <td>0.0</td>\n",
       "      <td>0.0</td>\n",
       "      <td>0.0</td>\n",
       "      <td>0.00</td>\n",
       "      <td>0.0</td>\n",
       "      <td>0.00</td>\n",
       "      <td>...</td>\n",
       "      <td>0</td>\n",
       "      <td>0</td>\n",
       "      <td>0</td>\n",
       "      <td>0</td>\n",
       "      <td>0</td>\n",
       "      <td>1</td>\n",
       "      <td>0</td>\n",
       "      <td>0</td>\n",
       "      <td>0</td>\n",
       "      <td>0</td>\n",
       "    </tr>\n",
       "    <tr>\n",
       "      <th>4</th>\n",
       "      <td>100079932.0</td>\n",
       "      <td>0.0</td>\n",
       "      <td>0.0</td>\n",
       "      <td>0.0</td>\n",
       "      <td>0.0</td>\n",
       "      <td>0.0</td>\n",
       "      <td>0.0</td>\n",
       "      <td>0.00</td>\n",
       "      <td>0.0</td>\n",
       "      <td>0.00</td>\n",
       "      <td>...</td>\n",
       "      <td>0</td>\n",
       "      <td>0</td>\n",
       "      <td>0</td>\n",
       "      <td>0</td>\n",
       "      <td>1</td>\n",
       "      <td>0</td>\n",
       "      <td>0</td>\n",
       "      <td>0</td>\n",
       "      <td>0</td>\n",
       "      <td>0</td>\n",
       "    </tr>\n",
       "    <tr>\n",
       "      <th>...</th>\n",
       "      <td>...</td>\n",
       "      <td>...</td>\n",
       "      <td>...</td>\n",
       "      <td>...</td>\n",
       "      <td>...</td>\n",
       "      <td>...</td>\n",
       "      <td>...</td>\n",
       "      <td>...</td>\n",
       "      <td>...</td>\n",
       "      <td>...</td>\n",
       "      <td>...</td>\n",
       "      <td>...</td>\n",
       "      <td>...</td>\n",
       "      <td>...</td>\n",
       "      <td>...</td>\n",
       "      <td>...</td>\n",
       "      <td>...</td>\n",
       "      <td>...</td>\n",
       "      <td>...</td>\n",
       "      <td>...</td>\n",
       "      <td>...</td>\n",
       "    </tr>\n",
       "    <tr>\n",
       "      <th>48295</th>\n",
       "      <td>999894944.0</td>\n",
       "      <td>0.0</td>\n",
       "      <td>0.0</td>\n",
       "      <td>0.0</td>\n",
       "      <td>0.0</td>\n",
       "      <td>0.0</td>\n",
       "      <td>0.0</td>\n",
       "      <td>0.00</td>\n",
       "      <td>0.0</td>\n",
       "      <td>0.16</td>\n",
       "      <td>...</td>\n",
       "      <td>0</td>\n",
       "      <td>1</td>\n",
       "      <td>0</td>\n",
       "      <td>0</td>\n",
       "      <td>1</td>\n",
       "      <td>0</td>\n",
       "      <td>0</td>\n",
       "      <td>0</td>\n",
       "      <td>0</td>\n",
       "      <td>0</td>\n",
       "    </tr>\n",
       "    <tr>\n",
       "      <th>48296</th>\n",
       "      <td>999918135.0</td>\n",
       "      <td>0.0</td>\n",
       "      <td>0.0</td>\n",
       "      <td>0.0</td>\n",
       "      <td>0.0</td>\n",
       "      <td>0.0</td>\n",
       "      <td>0.0</td>\n",
       "      <td>1.86</td>\n",
       "      <td>0.0</td>\n",
       "      <td>0.00</td>\n",
       "      <td>...</td>\n",
       "      <td>0</td>\n",
       "      <td>0</td>\n",
       "      <td>0</td>\n",
       "      <td>0</td>\n",
       "      <td>1</td>\n",
       "      <td>0</td>\n",
       "      <td>0</td>\n",
       "      <td>0</td>\n",
       "      <td>0</td>\n",
       "      <td>0</td>\n",
       "    </tr>\n",
       "    <tr>\n",
       "      <th>48297</th>\n",
       "      <td>999954890.0</td>\n",
       "      <td>0.0</td>\n",
       "      <td>0.0</td>\n",
       "      <td>0.0</td>\n",
       "      <td>0.0</td>\n",
       "      <td>0.0</td>\n",
       "      <td>0.0</td>\n",
       "      <td>0.00</td>\n",
       "      <td>0.0</td>\n",
       "      <td>0.00</td>\n",
       "      <td>...</td>\n",
       "      <td>0</td>\n",
       "      <td>0</td>\n",
       "      <td>0</td>\n",
       "      <td>0</td>\n",
       "      <td>1</td>\n",
       "      <td>0</td>\n",
       "      <td>0</td>\n",
       "      <td>0</td>\n",
       "      <td>0</td>\n",
       "      <td>0</td>\n",
       "    </tr>\n",
       "    <tr>\n",
       "      <th>48298</th>\n",
       "      <td>999967770.0</td>\n",
       "      <td>0.0</td>\n",
       "      <td>0.0</td>\n",
       "      <td>0.0</td>\n",
       "      <td>0.0</td>\n",
       "      <td>0.0</td>\n",
       "      <td>0.0</td>\n",
       "      <td>0.00</td>\n",
       "      <td>0.0</td>\n",
       "      <td>0.00</td>\n",
       "      <td>...</td>\n",
       "      <td>0</td>\n",
       "      <td>0</td>\n",
       "      <td>0</td>\n",
       "      <td>0</td>\n",
       "      <td>1</td>\n",
       "      <td>0</td>\n",
       "      <td>0</td>\n",
       "      <td>0</td>\n",
       "      <td>0</td>\n",
       "      <td>0</td>\n",
       "    </tr>\n",
       "    <tr>\n",
       "      <th>48299</th>\n",
       "      <td>999972990.0</td>\n",
       "      <td>0.0</td>\n",
       "      <td>0.0</td>\n",
       "      <td>0.0</td>\n",
       "      <td>0.0</td>\n",
       "      <td>0.0</td>\n",
       "      <td>0.0</td>\n",
       "      <td>0.00</td>\n",
       "      <td>0.0</td>\n",
       "      <td>0.00</td>\n",
       "      <td>...</td>\n",
       "      <td>0</td>\n",
       "      <td>0</td>\n",
       "      <td>0</td>\n",
       "      <td>0</td>\n",
       "      <td>1</td>\n",
       "      <td>0</td>\n",
       "      <td>0</td>\n",
       "      <td>0</td>\n",
       "      <td>0</td>\n",
       "      <td>0</td>\n",
       "    </tr>\n",
       "  </tbody>\n",
       "</table>\n",
       "<p>48300 rows × 693 columns</p>\n",
       "</div>"
      ],
      "text/plain": [
       "                id  rx_hum_19_pmpm_cost  cmsd2_can_mal_male_genital_pmpm_ct  \\\n",
       "0      100039218.0                  0.0                                 0.0   \n",
       "1      100042427.0                  0.0                                 0.0   \n",
       "2      100055103.0                  0.0                                 0.0   \n",
       "3      100074556.0                  0.0                                 0.0   \n",
       "4      100079932.0                  0.0                                 0.0   \n",
       "...            ...                  ...                                 ...   \n",
       "48295  999894944.0                  0.0                                 0.0   \n",
       "48296  999918135.0                  0.0                                 0.0   \n",
       "48297  999954890.0                  0.0                                 0.0   \n",
       "48298  999967770.0                  0.0                                 0.0   \n",
       "48299  999972990.0                  0.0                                 0.0   \n",
       "\n",
       "       cmsd2_inj_surgical_pmpm_ct  cci_chf_pmpm_ct  \\\n",
       "0                             0.0              0.0   \n",
       "1                             0.0              0.0   \n",
       "2                             0.0              0.0   \n",
       "3                             0.0              0.0   \n",
       "4                             0.0              0.0   \n",
       "...                           ...              ...   \n",
       "48295                         0.0              0.0   \n",
       "48296                         0.0              0.0   \n",
       "48297                         0.0              0.0   \n",
       "48298                         0.0              0.0   \n",
       "48299                         0.0              0.0   \n",
       "\n",
       "       rx_phar_cat_safeway_pmpm_ct  cmsd2_ext_car_pmpm_ct  \\\n",
       "0                              0.0                    0.0   \n",
       "1                              0.0                    0.0   \n",
       "2                              0.0                    0.0   \n",
       "3                              0.0                    0.0   \n",
       "4                              0.0                    0.0   \n",
       "...                            ...                    ...   \n",
       "48295                          0.0                    0.0   \n",
       "48296                          0.0                    0.0   \n",
       "48297                          0.0                    0.0   \n",
       "48298                          0.0                    0.0   \n",
       "48299                          0.0                    0.0   \n",
       "\n",
       "       cmsd2_dig_liver_pmpm_ct  cmsd2_mus_arthropath_pmpm_ct  \\\n",
       "0                         0.00                           0.0   \n",
       "1                         0.00                           0.0   \n",
       "2                         0.00                           0.0   \n",
       "3                         0.00                           0.0   \n",
       "4                         0.00                           0.0   \n",
       "...                        ...                           ...   \n",
       "48295                     0.00                           0.0   \n",
       "48296                     1.86                           0.0   \n",
       "48297                     0.00                           0.0   \n",
       "48298                     0.00                           0.0   \n",
       "48299                     0.00                           0.0   \n",
       "\n",
       "       rx_hum_28_pmpm_ct  ...  rucc_category_8-Nonmetro  \\\n",
       "0                   0.00  ...                         0   \n",
       "1                   0.00  ...                         0   \n",
       "2                   0.00  ...                         0   \n",
       "3                   0.00  ...                         0   \n",
       "4                   0.00  ...                         0   \n",
       "...                  ...  ...                       ...   \n",
       "48295               0.16  ...                         0   \n",
       "48296               0.00  ...                         0   \n",
       "48297               0.00  ...                         0   \n",
       "48298               0.00  ...                         0   \n",
       "48299               0.00  ...                         0   \n",
       "\n",
       "       rucc_category_9-Nonmetro  cms_race_cd_*  cms_race_cd_0  cms_race_cd_1  \\\n",
       "0                             0              0              0              1   \n",
       "1                             0              0              0              0   \n",
       "2                             0              0              0              1   \n",
       "3                             0              0              0              0   \n",
       "4                             0              0              0              1   \n",
       "...                         ...            ...            ...            ...   \n",
       "48295                         1              0              0              1   \n",
       "48296                         0              0              0              1   \n",
       "48297                         0              0              0              1   \n",
       "48298                         0              0              0              1   \n",
       "48299                         0              0              0              1   \n",
       "\n",
       "       cms_race_cd_2  cms_race_cd_3  cms_race_cd_4  cms_race_cd_5  \\\n",
       "0                  0              0              0              0   \n",
       "1                  0              0              0              0   \n",
       "2                  0              0              0              0   \n",
       "3                  1              0              0              0   \n",
       "4                  0              0              0              0   \n",
       "...              ...            ...            ...            ...   \n",
       "48295              0              0              0              0   \n",
       "48296              0              0              0              0   \n",
       "48297              0              0              0              0   \n",
       "48298              0              0              0              0   \n",
       "48299              0              0              0              0   \n",
       "\n",
       "       cms_race_cd_6  \n",
       "0                  0  \n",
       "1                  1  \n",
       "2                  0  \n",
       "3                  0  \n",
       "4                  0  \n",
       "...              ...  \n",
       "48295              0  \n",
       "48296              0  \n",
       "48297              0  \n",
       "48298              0  \n",
       "48299              0  \n",
       "\n",
       "[48300 rows x 693 columns]"
      ]
     },
     "execution_count": 165,
     "metadata": {},
     "output_type": "execute_result"
    }
   ],
   "source": []
  },
  {
   "cell_type": "markdown",
   "id": "408619e7",
   "metadata": {},
   "source": [
    "### 1.6 KNN imputation"
   ]
  },
  {
   "cell_type": "code",
   "execution_count": 198,
   "id": "4766d5da",
   "metadata": {},
   "outputs": [],
   "source": [
    "df_knn=pd.read_csv(\"D:\\humana case competition\\clean_data.csv\")"
   ]
  },
  {
   "cell_type": "code",
   "execution_count": 199,
   "id": "029760c0",
   "metadata": {},
   "outputs": [],
   "source": [
    "#this cell can cost half an hour, don't run it\n",
    "# Imputing with KNNImputer\n",
    "\n",
    "from sklearn.impute import KNNImputer\n",
    "from sklearn.preprocessing import MinMaxScaler\n",
    "\n",
    "# Define scaler to set values between 0 and 1\n",
    "scaler = MinMaxScaler(feature_range=(0, 1))\n",
    "df_knn = pd.DataFrame(scaler.fit_transform(df_knn), columns = df_knn.columns)\n",
    "\n",
    "# Define KNN imputer and fill missing values\n",
    "knn_imputer = KNNImputer(n_neighbors=5, weights='uniform', metric='nan_euclidean')\n",
    "df_knn_imputed = pd.DataFrame(knn_imputer.fit_transform(df_knn), columns=df_knn.columns)"
   ]
  },
  {
   "cell_type": "code",
   "execution_count": 48,
   "id": "48da5d73",
   "metadata": {},
   "outputs": [
    {
     "data": {
      "text/plain": [
       "(48300, 701)"
      ]
     },
     "execution_count": 48,
     "metadata": {},
     "output_type": "execute_result"
    }
   ],
   "source": [
    "df_knn_imputed.shape"
   ]
  },
  {
   "cell_type": "code",
   "execution_count": 200,
   "id": "cfd5ce3b",
   "metadata": {},
   "outputs": [],
   "source": [
    "df_knn_imputed.to_csv(\"D:\\humana case competition\\imputated data.csv\")"
   ]
  },
  {
   "cell_type": "code",
   "execution_count": null,
   "id": "2a8101c8",
   "metadata": {},
   "outputs": [],
   "source": []
  },
  {
   "cell_type": "code",
   "execution_count": 5,
   "id": "7cdd5d1c",
   "metadata": {},
   "outputs": [],
   "source": [
    "#use this file to start with modeling\n",
    "#KNN data cleaning\n",
    "#We have already got the knn clean data and we drop cms_race_cd\n",
    "df_knn_imputed=pd.read_csv('D:/humana case competition/imputated data.csv')"
   ]
  },
  {
   "cell_type": "markdown",
   "id": "66dd4bd2",
   "metadata": {},
   "source": [
    "### Scaling"
   ]
  },
  {
   "cell_type": "code",
   "execution_count": 201,
   "id": "45fdc7c1",
   "metadata": {},
   "outputs": [],
   "source": [
    "# Define scaler to set values between 0 and 1\n",
    "scaler = MinMaxScaler(feature_range=(0, 1))\n",
    "df_knn_imputed = pd.DataFrame(scaler.fit_transform(df_knn_imputed), columns = df_knn_imputed.columns)"
   ]
  },
  {
   "cell_type": "code",
   "execution_count": 202,
   "id": "f57288c3",
   "metadata": {},
   "outputs": [],
   "source": [
    "Y = df_knn_imputed['hi_flag']\n",
    "test_set_column=df_knn_imputed.columns.values.tolist()[1:]\n",
    "test_set_column.remove('hi_flag')\n",
    "X = df_knn_imputed[test_set_column]"
   ]
  },
  {
   "cell_type": "code",
   "execution_count": null,
   "id": "6496769f",
   "metadata": {},
   "outputs": [],
   "source": []
  },
  {
   "cell_type": "code",
   "execution_count": 203,
   "id": "7b4b7450",
   "metadata": {},
   "outputs": [],
   "source": [
    "# split data into test set and training set\n",
    "from sklearn.model_selection import train_test_split\n",
    "train_x, test_x, train_y, test_y = train_test_split(X, Y, test_size=0.2)"
   ]
  },
  {
   "cell_type": "code",
   "execution_count": 204,
   "id": "5b9aa97b",
   "metadata": {},
   "outputs": [],
   "source": [
    "\n",
    "# set a model\n",
    "model = Sequential()  \n",
    "#input--number of features    X.shape[0] number of observations\n",
    "input = X.shape[1]  \n",
    "model.add(Dense(units=1024,input_dim=input,activation='relu'))  \n",
    "# Dropout randomly\n",
    "model.add(Dropout(0.3))\n",
    "# Dropout randomly\n",
    "model.add(Dense(units=512,activation='relu'))\n",
    "model.add(Dropout(0.2))\n",
    "# Dropout randomly\n",
    "model.add(Dense(units=512,activation='relu'))\n",
    "model.add(Dropout(0.2))\n",
    "model.add(Dense(units=256,activation='relu'))\n",
    "model.add(Dense(units=256,activation='relu'))\n",
    "\n",
    "\n",
    "model.add(Dense(units=128,activation='relu'))\n",
    "model.add(Dense(units=64,activation='relu'))\n",
    "# use sigmoid for the output\n",
    "model.add(Dense(units=1,activation='sigmoid'))\n",
    "model.compile(loss='binary_crossentropy', optimizer='adam', metrics=['accuracy'])\n",
    "\n",
    "\n"
   ]
  },
  {
   "cell_type": "code",
   "execution_count": 205,
   "id": "f7953751",
   "metadata": {},
   "outputs": [
    {
     "name": "stdout",
     "output_type": "stream",
     "text": [
      "Epoch 1/10\n",
      "302/302 [==============================] - 13s 36ms/step - loss: 0.1783 - accuracy: 0.9532 - val_loss: 0.1677 - val_accuracy: 0.9565\n",
      "Epoch 2/10\n",
      "302/302 [==============================] - 10s 34ms/step - loss: 0.1675 - accuracy: 0.9561 - val_loss: 0.1707 - val_accuracy: 0.9565\n",
      "Epoch 3/10\n",
      "302/302 [==============================] - 11s 36ms/step - loss: 0.1635 - accuracy: 0.9561 - val_loss: 0.1660 - val_accuracy: 0.9565\n",
      "Epoch 4/10\n",
      "302/302 [==============================] - 10s 34ms/step - loss: 0.1646 - accuracy: 0.9561 - val_loss: 0.1667 - val_accuracy: 0.9565\n",
      "Epoch 5/10\n",
      "302/302 [==============================] - 11s 36ms/step - loss: 0.1600 - accuracy: 0.9561 - val_loss: 0.1714 - val_accuracy: 0.9565\n",
      "Epoch 6/10\n",
      "302/302 [==============================] - 11s 37ms/step - loss: 0.1606 - accuracy: 0.9561 - val_loss: 0.1683 - val_accuracy: 0.9565\n",
      "Epoch 7/10\n",
      "302/302 [==============================] - 11s 36ms/step - loss: 0.1588 - accuracy: 0.9561 - val_loss: 0.1794 - val_accuracy: 0.9565\n",
      "Epoch 8/10\n",
      "302/302 [==============================] - 11s 37ms/step - loss: 0.1561 - accuracy: 0.9560 - val_loss: 0.1699 - val_accuracy: 0.9565\n",
      "Epoch 9/10\n",
      "302/302 [==============================] - 11s 37ms/step - loss: 0.1532 - accuracy: 0.9563 - val_loss: 0.1774 - val_accuracy: 0.9549\n",
      "Epoch 10/10\n",
      "302/302 [==============================] - 11s 36ms/step - loss: 0.1530 - accuracy: 0.9564 - val_loss: 0.1759 - val_accuracy: 0.9565\n"
     ]
    }
   ],
   "source": [
    "from keras.callbacks import EarlyStopping\n",
    "early_stopping = EarlyStopping(monitor='val_loss', patience=20, verbose=2)\n",
    "# train\n",
    "\n",
    "history = model.fit(train_x, train_y, epochs=10, batch_size=128,\n",
    "                    validation_data=(test_x, test_y))\n"
   ]
  },
  {
   "cell_type": "code",
   "execution_count": 206,
   "id": "a8b7cde7",
   "metadata": {},
   "outputs": [
    {
     "name": "stdout",
     "output_type": "stream",
     "text": [
      "302/302 [==============================] - 2s 6ms/step\n",
      "Test AUC: 0.704\n"
     ]
    },
    {
     "data": {
      "image/png": "[encoded data removed]",
      "text/plain": [
       "<Figure size 640x480 with 1 Axes>"
      ]
     },
     "metadata": {},
     "output_type": "display_data"
    }
   ],
   "source": [
    "from sklearn.metrics import roc_curve, roc_auc_score\n",
    "from sklearn.impute import KNNImputer\n",
    "from sklearn.preprocessing import MinMaxScaler\n",
    "# loss curve\n",
    "#pyplot.plot(history.history['loss'], label='train')\n",
    "#pyplot.plot(history.history['val_loss'], label='test')\n",
    "#pyplot.title('Model loss')\n",
    "#pyplot.ylabel('Loss')\n",
    "#pyplot.xlabel('Epoch')\n",
    "#pyplot.legend()\n",
    "#pyplot.show()\n",
    "# prediction\n",
    "yhat = model.predict(test_x)\n",
    "\n",
    "\n",
    "\n",
    "# 原始y逆标准化\n",
    "test_y = pd.DataFrame(test_y)\n",
    "\n",
    "print('Test AUC: %.3f'%roc_auc_score(test_y, yhat))\n",
    "fpr, tpr, _ = roc_curve(test_y, yhat)\n",
    "\n",
    "pyplot.clf()\n",
    "pyplot.plot(fpr, tpr)\n",
    "pyplot.xlabel('FPR')\n",
    "pyplot.ylabel('TPR')\n",
    "pyplot.title('ROC curve')\n",
    "pyplot.show()\n"
   ]
  },
  {
   "cell_type": "markdown",
   "id": "038764c6",
   "metadata": {},
   "source": [
    "### holdout数据用model.predict()报错"
   ]
  },
  {
   "cell_type": "code",
   "execution_count": 207,
   "id": "5a88f13d",
   "metadata": {},
   "outputs": [
    {
     "name": "stderr",
     "output_type": "stream",
     "text": [
      "C:\\Users\\vivia\\AppData\\Local\\Temp\\ipykernel_2584\\2400603257.py:2: DtypeWarning: Columns (760) have mixed types. Specify dtype option on import or set low_memory=False.\n",
      "  df_knn_test=pd.read_csv('D:/humana case competition/2022_Competition_Holdout.csv')\n"
     ]
    }
   ],
   "source": [
    "#import the holdout to do prediction later\n",
    "df_knn_test=pd.read_csv('D:/humana case competition/2022_Competition_Holdout.csv')"
   ]
  },
  {
   "cell_type": "code",
   "execution_count": 208,
   "id": "1a67b105",
   "metadata": {},
   "outputs": [],
   "source": [
    "column_names.remove('hi_flag')\n",
    "for col in column_names:\n",
    "    if col in numeric_name:\n",
    "        df_knn_test[col] = pd.to_numeric(df_knn_test[col])"
   ]
  },
  {
   "cell_type": "code",
   "execution_count": 209,
   "id": "b4fd935c",
   "metadata": {},
   "outputs": [],
   "source": [
    "df_knn_test['cms_race_cd']=df_knn_test['cms_race_cd'].astype(str)"
   ]
  },
  {
   "cell_type": "code",
   "execution_count": 210,
   "id": "2391d56d",
   "metadata": {},
   "outputs": [],
   "source": [
    "df_knn_test_dummy = pd.get_dummies(df_knn_test, columns=string_name)"
   ]
  },
  {
   "cell_type": "code",
   "execution_count": 211,
   "id": "6bef37ce",
   "metadata": {},
   "outputs": [],
   "source": [
    "df_knn_test_dummy=df_knn_test_dummy.fillna(df_knn_test_dummy.mean())"
   ]
  },
  {
   "cell_type": "code",
   "execution_count": 212,
   "id": "2600141e",
   "metadata": {},
   "outputs": [],
   "source": [
    "df_knn_test_dummy=df_knn_test_dummy[X.columns.values.tolist()]"
   ]
  },
  {
   "cell_type": "code",
   "execution_count": 213,
   "id": "40627e3f",
   "metadata": {},
   "outputs": [
    {
     "name": "stdout",
     "output_type": "stream",
     "text": [
      "382/382 [==============================] - 2s 6ms/step\n"
     ]
    }
   ],
   "source": [
    "y=model.predict(df_knn_test_dummy)"
   ]
  },
  {
   "cell_type": "code",
   "execution_count": 214,
   "id": "d35df974",
   "metadata": {},
   "outputs": [
    {
     "data": {
      "text/plain": [
       "array([[0.],\n",
       "       [0.],\n",
       "       [0.],\n",
       "       ...,\n",
       "       [0.],\n",
       "       [0.],\n",
       "       [0.]], dtype=float32)"
      ]
     },
     "execution_count": 214,
     "metadata": {},
     "output_type": "execute_result"
    }
   ],
   "source": [
    "y"
   ]
  },
  {
   "cell_type": "code",
   "execution_count": null,
   "id": "aaadb3e9",
   "metadata": {},
   "outputs": [],
   "source": []
  },
  {
   "cell_type": "code",
   "execution_count": null,
   "id": "7ba0357d",
   "metadata": {},
   "outputs": [],
   "source": []
  },
  {
   "cell_type": "code",
   "execution_count": null,
   "id": "74ce40d2",
   "metadata": {},
   "outputs": [],
   "source": []
  },
  {
   "cell_type": "code",
   "execution_count": null,
   "id": "87526fc1",
   "metadata": {},
   "outputs": [],
   "source": []
  },
  {
   "cell_type": "code",
   "execution_count": null,
   "id": "d495abe1",
   "metadata": {},
   "outputs": [],
   "source": []
  },
  {
   "cell_type": "code",
   "execution_count": null,
   "id": "0c100977",
   "metadata": {},
   "outputs": [],
   "source": []
  },
  {
   "cell_type": "code",
   "execution_count": null,
   "id": "9d14e4dd",
   "metadata": {},
   "outputs": [],
   "source": []
  }
 ],
 "metadata": {
  "kernelspec": {
   "display_name": "Python 3 (ipykernel)",
   "language": "python",
   "name": "python3"
  },
  "language_info": {
   "codemirror_mode": {
    "name": "ipython",
    "version": 3
   },
   "file_extension": ".py",
   "mimetype": "text/x-python",
   "name": "python",
   "nbconvert_exporter": "python",
   "pygments_lexer": "ipython3",
   "version": "3.9.13"
  }
 },
 "nbformat": 4,
 "nbformat_minor": 5
}
